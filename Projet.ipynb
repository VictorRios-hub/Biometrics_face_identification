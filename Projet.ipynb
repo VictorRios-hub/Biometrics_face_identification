{
 "cells": [
  {
   "attachments": {},
   "cell_type": "markdown",
   "metadata": {},
   "source": [
    "### Projet de laboratoire :  Système d'identification de visages\n",
    "\n",
    "L'objectif de ce projet est la conception d'un système d'identification de visages robustes à partir d'images statiques (en niveau de gris)\n",
    "\n",
    "Nous étudierons différents classificateurs (K-NN, SVM, CNNs), l'impacts de différents algorithmes de réduction de dimensionnalité (PCA et LDA) sur l'apprentissage et la performance des classificateurs, indépendamment mais aussi en les combinant."
   ]
  },
  {
   "attachments": {},
   "cell_type": "markdown",
   "metadata": {},
   "source": [
    "### Importation de la dataset (lfw_pepole)\n"
   ]
  },
  {
   "cell_type": "code",
   "execution_count": 1,
   "metadata": {},
   "outputs": [],
   "source": [
    "# Importation de la dataset lfw_people\n",
    "\n",
    "from sklearn.datasets import fetch_lfw_people\n",
    "lfw_people = fetch_lfw_people(min_faces_per_person=70, resize=0.4)"
   ]
  },
  {
   "attachments": {},
   "cell_type": "markdown",
   "metadata": {},
   "source": [
    "### Différents algorithmes de réduction de dimensionnalité (PCA, LDA)\n"
   ]
  },
  {
   "cell_type": "code",
   "execution_count": 2,
   "metadata": {},
   "outputs": [],
   "source": [
    "from sklearn.model_selection import train_test_split\n",
    "\n",
    "# Stratification des données train (60%), val (30%), test (10%)\n",
    "\n",
    "X = lfw_people.data\n",
    "n_features = X.shape[1]\n",
    "y = lfw_people.target\n",
    "\n",
    "# Conservation de la stratification trainval (90%) et test (10%) pour k-fold cross validation\n",
    "\n",
    "X_trainval, X_test, y_trainval, y_test = train_test_split(\n",
    "    X, y, test_size=0.10, random_state=42)\n",
    "\n",
    "X_train, X_val, y_train, y_val = train_test_split(\n",
    "    X_trainval, y_trainval, test_size=0.30, random_state=42)"
   ]
  },
  {
   "cell_type": "code",
   "execution_count": 3,
   "metadata": {},
   "outputs": [],
   "source": [
    "from sklearn.decomposition import PCA\n",
    "from sklearn.discriminant_analysis import LinearDiscriminantAnalysis as LDA\n",
    "\n",
    "# Entrainement de l'algorithme PCA\n",
    "\n",
    "n_components_PCA = 100\n",
    "pca = PCA(n_components=n_components_PCA).fit(X_train)\n",
    "\n",
    "# Entrainement de l'algorithme LDA\n",
    "\n",
    "n_components_LDA = 4\n",
    "lda = LDA(n_components=n_components_LDA).fit(X_train, y_train)"
   ]
  },
  {
   "cell_type": "code",
   "execution_count": 4,
   "metadata": {},
   "outputs": [
    {
     "name": "stdout",
     "output_type": "stream",
     "text": [
      "Taux de bonnes classification validation - n_components=4 : 72.41%\n",
      "Taux de bonnes classification test - n_components=4 : 78.29%\n"
     ]
    }
   ],
   "source": [
    "# Projection des visages dans un espace de dimension plus faible\n",
    "\n",
    "# PCA\n",
    "X_train_pca = pca.transform(X_train)\n",
    "X_val_pca = pca.transform(X_val)\n",
    "X_test_pca = pca.transform(X_test)\n",
    "\n",
    "# LDA\n",
    "X_train_lda = lda.transform(X_train)\n",
    "X_val_lda = lda.transform(X_val)\n",
    "X_test_lda = lda.transform(X_test)\n",
    "\n",
    "# Classification brute avec LDA\n",
    "LDA_val_score = lda.score(X_val, y_val)\n",
    "LDA_test_score = lda.score(X_test, y_test)\n",
    "\n",
    "print(f\"Taux de bonnes classification validation - n_components={n_components_LDA} : {LDA_val_score:0.2%}\")\n",
    "print(f\"Taux de bonnes classification test - n_components={n_components_LDA} : {LDA_test_score:0.2%}\")"
   ]
  },
  {
   "attachments": {},
   "cell_type": "markdown",
   "metadata": {},
   "source": [
    "### Combinaison des réducteurs et des classificateurs\n"
   ]
  },
  {
   "cell_type": "code",
   "execution_count": 5,
   "metadata": {},
   "outputs": [
    {
     "name": "stdout",
     "output_type": "stream",
     "text": [
      "Taux de bonnes classification validation - n_components=4 : 82.18%\n"
     ]
    }
   ],
   "source": [
    "# PCA puis LDA\n",
    "\n",
    "lda_pcatrained = LDA(n_components=n_components_LDA).fit(X_train_pca, y_train)\n",
    "X_train_pca_lda = lda_pcatrained.transform(X_train_pca)\n",
    "X_val_pca_lda = lda_pcatrained.transform(X_val_pca)\n",
    "X_test_pca_lda = lda_pcatrained.transform(X_test_pca)\n",
    "\n",
    "# Test immédiat sur une classification brute avec LDA\n",
    "LDA_pca_val_score = lda_pcatrained.score(X_val_pca, y_val)\n",
    "print(f\"Taux de bonnes classification validation - n_components={n_components_LDA} : {LDA_pca_val_score:0.2%}\")\n",
    "# Meilleur classification que LDA seul"
   ]
  },
  {
   "attachments": {},
   "cell_type": "markdown",
   "metadata": {},
   "source": [
    "### Différents classificateurs indépendants"
   ]
  },
  {
   "attachments": {},
   "cell_type": "markdown",
   "metadata": {},
   "source": [
    "#### K-nearest neighbors"
   ]
  },
  {
   "cell_type": "code",
   "execution_count": 6,
   "metadata": {},
   "outputs": [
    {
     "name": "stdout",
     "output_type": "stream",
     "text": [
      "RAW: 0.514367816091954\n",
      "Cross-validation: 0.5402298850574713\n",
      "PCA: 0.5344827586206896\n",
      "Cross-validation_PCA: 0.5402298850574713\n",
      "LDA: 0.6982758620689655\n",
      "Cross-validation_LDA: 0.7126436781609196\n",
      "PCA + LDA: 0.5373563218390804\n"
     ]
    }
   ],
   "source": [
    "from sklearn.neighbors import KNeighborsClassifier\n",
    "from sklearn.model_selection import cross_val_score\n",
    "\n",
    "# Entrainement de l'algorithme KNN\n",
    "\n",
    "neigh = KNeighborsClassifier(n_neighbors=12) # Best k (based on validation)\n",
    "neigh.fit(X_train, y_train) # Entraînement du modèle\n",
    "\n",
    "KNN_val_score = neigh.score(X_val, y_val)\n",
    "KNN_test_score = neigh.score(X_test, y_test)\n",
    "\n",
    "# Cross validation score\n",
    "KNN_cross_val_score = cross_val_score(neigh,X_val, y_val, cv = 4)\n",
    "KNN_cross_test_score = cross_val_score(neigh,X_test, y_test, cv = 4)\n",
    "\n",
    "print(\"RAW:\",KNN_val_score)\n",
    "print(\"Cross-validation:\",max(KNN_cross_val_score)) # index = 2\n",
    "\n",
    "# Entrainement de l'algorithme KNN avec PCA\n",
    "\n",
    "neigh_PCA = KNeighborsClassifier(n_neighbors=12)\n",
    "neigh_PCA.fit(X_train_pca,y_train)\n",
    "\n",
    "KNN_val_score_PCA = neigh_PCA.score(X_val_pca, y_val)\n",
    "KNN_test_score_PCA = neigh_PCA.score(X_test_pca, y_test)\n",
    "KNN_cross_val_score_PCA = cross_val_score(neigh_PCA,X_val_pca, y_val, cv = 4)\n",
    "KNN_cross_test_score_PCA = cross_val_score(neigh_PCA,X_test_pca, y_test, cv = 4)\n",
    "\n",
    "print(\"PCA:\",KNN_val_score_PCA)\n",
    "print(\"Cross-validation_PCA:\",max(KNN_cross_val_score_PCA)) \n",
    "\n",
    "# Entrainement de l'algorithme KNN avec LDA\n",
    "\n",
    "neigh_LDA = KNeighborsClassifier(n_neighbors=12)\n",
    "neigh_LDA.fit(X_train_lda,y_train)\n",
    "\n",
    "KNN_val_score_LDA = neigh_LDA.score(X_val_lda, y_val)\n",
    "KNN_test_score_LDA = neigh_LDA.score(X_test_lda, y_test)\n",
    "KNN_cross_val_score_LDA = cross_val_score(neigh_LDA,X_val_lda, y_val, cv = 4)\n",
    "KNN_cross_test_score_LDA = cross_val_score(neigh_LDA,X_test_lda, y_test, cv = 4)\n",
    "\n",
    "print(\"LDA:\",KNN_val_score_LDA)\n",
    "print(\"Cross-validation_LDA:\",max(KNN_cross_val_score_LDA)) \n",
    "\n",
    "# Entrainement de l'algorithme KNN avec PCA + LDA\n",
    "\n",
    "neigh_PCA_LDA = KNeighborsClassifier(n_neighbors=12)\n",
    "neigh_PCA_LDA.fit(X_train_lda,y_train)\n",
    "\n",
    "KNN_val_score_PCA_LDA = neigh_LDA.score(X_val_pca_lda, y_val)\n",
    "KNN_test_score_PCA_LDA = neigh_LDA.score(X_test_pca_lda, y_test)\n",
    "\n",
    "print(\"PCA + LDA:\",KNN_val_score_PCA_LDA)\n"
   ]
  },
  {
   "attachments": {},
   "cell_type": "markdown",
   "metadata": {},
   "source": [
    "### Support Vector Machine (SVM)"
   ]
  },
  {
   "cell_type": "code",
   "execution_count": 7,
   "metadata": {},
   "outputs": [
    {
     "name": "stdout",
     "output_type": "stream",
     "text": [
      "C Value : 0.001 \n",
      "  ===> Validation classification score PCA : 0.6281320844767928\n",
      "  ===> Test classification score PCA : 0.7461240310077519\n",
      "  ===> Validation classification score LDA : 0.6902786063715547\n",
      "  ===> Test classification score LDA : 0.7034883720930232\n",
      "C Value : 0.01 \n",
      "  ===> Validation classification score PCA : 0.7877460923517481\n",
      "  ===> Test classification score PCA : 0.8391472868217055\n",
      "  ===> Validation classification score LDA : 0.6971811239708865\n",
      "  ===> Test classification score LDA : 0.7209302325581395\n",
      "C Value : 0.1 \n",
      "  ===> Validation classification score PCA : 0.8274340770791075\n",
      "  ===> Test classification score PCA : 0.8527131782945737\n",
      "  ===> Validation classification score LDA : 0.6911287435866841\n",
      "  ===> Test classification score LDA : 0.7267441860465116\n"
     ]
    },
    {
     "name": "stderr",
     "output_type": "stream",
     "text": [
      "c:\\Users\\vicri\\AppData\\Local\\Programs\\Python\\Python39\\lib\\site-packages\\sklearn\\svm\\_base.py:1244: ConvergenceWarning: Liblinear failed to converge, increase the number of iterations.\n",
      "  warnings.warn(\n",
      "c:\\Users\\vicri\\AppData\\Local\\Programs\\Python\\Python39\\lib\\site-packages\\sklearn\\svm\\_base.py:1244: ConvergenceWarning: Liblinear failed to converge, increase the number of iterations.\n",
      "  warnings.warn(\n",
      "c:\\Users\\vicri\\AppData\\Local\\Programs\\Python\\Python39\\lib\\site-packages\\sklearn\\svm\\_base.py:1244: ConvergenceWarning: Liblinear failed to converge, increase the number of iterations.\n",
      "  warnings.warn(\n",
      "c:\\Users\\vicri\\AppData\\Local\\Programs\\Python\\Python39\\lib\\site-packages\\sklearn\\svm\\_base.py:1244: ConvergenceWarning: Liblinear failed to converge, increase the number of iterations.\n",
      "  warnings.warn(\n",
      "c:\\Users\\vicri\\AppData\\Local\\Programs\\Python\\Python39\\lib\\site-packages\\sklearn\\svm\\_base.py:1244: ConvergenceWarning: Liblinear failed to converge, increase the number of iterations.\n",
      "  warnings.warn(\n",
      "c:\\Users\\vicri\\AppData\\Local\\Programs\\Python\\Python39\\lib\\site-packages\\sklearn\\svm\\_base.py:1244: ConvergenceWarning: Liblinear failed to converge, increase the number of iterations.\n",
      "  warnings.warn(\n",
      "c:\\Users\\vicri\\AppData\\Local\\Programs\\Python\\Python39\\lib\\site-packages\\sklearn\\svm\\_base.py:1244: ConvergenceWarning: Liblinear failed to converge, increase the number of iterations.\n",
      "  warnings.warn(\n",
      "c:\\Users\\vicri\\AppData\\Local\\Programs\\Python\\Python39\\lib\\site-packages\\sklearn\\svm\\_base.py:1244: ConvergenceWarning: Liblinear failed to converge, increase the number of iterations.\n",
      "  warnings.warn(\n"
     ]
    },
    {
     "name": "stdout",
     "output_type": "stream",
     "text": [
      "C Value : 1 \n",
      "  ===> Validation classification score PCA : 0.7980998687507457\n",
      "  ===> Test classification score PCA : 0.8313953488372093\n",
      "  ===> Validation classification score LDA : 0.6859682615439686\n",
      "  ===> Test classification score LDA : 0.7151162790697674\n"
     ]
    },
    {
     "name": "stderr",
     "output_type": "stream",
     "text": [
      "c:\\Users\\vicri\\AppData\\Local\\Programs\\Python\\Python39\\lib\\site-packages\\sklearn\\svm\\_base.py:1244: ConvergenceWarning: Liblinear failed to converge, increase the number of iterations.\n",
      "  warnings.warn(\n",
      "c:\\Users\\vicri\\AppData\\Local\\Programs\\Python\\Python39\\lib\\site-packages\\sklearn\\svm\\_base.py:1244: ConvergenceWarning: Liblinear failed to converge, increase the number of iterations.\n",
      "  warnings.warn(\n",
      "c:\\Users\\vicri\\AppData\\Local\\Programs\\Python\\Python39\\lib\\site-packages\\sklearn\\svm\\_base.py:1244: ConvergenceWarning: Liblinear failed to converge, increase the number of iterations.\n",
      "  warnings.warn(\n",
      "c:\\Users\\vicri\\AppData\\Local\\Programs\\Python\\Python39\\lib\\site-packages\\sklearn\\svm\\_base.py:1244: ConvergenceWarning: Liblinear failed to converge, increase the number of iterations.\n",
      "  warnings.warn(\n",
      "c:\\Users\\vicri\\AppData\\Local\\Programs\\Python\\Python39\\lib\\site-packages\\sklearn\\svm\\_base.py:1244: ConvergenceWarning: Liblinear failed to converge, increase the number of iterations.\n",
      "  warnings.warn(\n",
      "c:\\Users\\vicri\\AppData\\Local\\Programs\\Python\\Python39\\lib\\site-packages\\sklearn\\svm\\_base.py:1244: ConvergenceWarning: Liblinear failed to converge, increase the number of iterations.\n",
      "  warnings.warn(\n",
      "c:\\Users\\vicri\\AppData\\Local\\Programs\\Python\\Python39\\lib\\site-packages\\sklearn\\svm\\_base.py:1244: ConvergenceWarning: Liblinear failed to converge, increase the number of iterations.\n",
      "  warnings.warn(\n",
      "c:\\Users\\vicri\\AppData\\Local\\Programs\\Python\\Python39\\lib\\site-packages\\sklearn\\svm\\_base.py:1244: ConvergenceWarning: Liblinear failed to converge, increase the number of iterations.\n",
      "  warnings.warn(\n"
     ]
    },
    {
     "name": "stdout",
     "output_type": "stream",
     "text": [
      "C Value : 5 \n",
      "  ===> Validation classification score PCA : 0.7825736785586446\n",
      "  ===> Test classification score PCA : 0.7926356589147286\n",
      "  ===> Validation classification score LDA : 0.6816400190908006\n",
      "  ===> Test classification score LDA : 0.7073643410852712\n"
     ]
    },
    {
     "name": "stderr",
     "output_type": "stream",
     "text": [
      "c:\\Users\\vicri\\AppData\\Local\\Programs\\Python\\Python39\\lib\\site-packages\\sklearn\\svm\\_base.py:1244: ConvergenceWarning: Liblinear failed to converge, increase the number of iterations.\n",
      "  warnings.warn(\n",
      "c:\\Users\\vicri\\AppData\\Local\\Programs\\Python\\Python39\\lib\\site-packages\\sklearn\\svm\\_base.py:1244: ConvergenceWarning: Liblinear failed to converge, increase the number of iterations.\n",
      "  warnings.warn(\n",
      "c:\\Users\\vicri\\AppData\\Local\\Programs\\Python\\Python39\\lib\\site-packages\\sklearn\\svm\\_base.py:1244: ConvergenceWarning: Liblinear failed to converge, increase the number of iterations.\n",
      "  warnings.warn(\n",
      "c:\\Users\\vicri\\AppData\\Local\\Programs\\Python\\Python39\\lib\\site-packages\\sklearn\\svm\\_base.py:1244: ConvergenceWarning: Liblinear failed to converge, increase the number of iterations.\n",
      "  warnings.warn(\n",
      "c:\\Users\\vicri\\AppData\\Local\\Programs\\Python\\Python39\\lib\\site-packages\\sklearn\\svm\\_base.py:1244: ConvergenceWarning: Liblinear failed to converge, increase the number of iterations.\n",
      "  warnings.warn(\n",
      "c:\\Users\\vicri\\AppData\\Local\\Programs\\Python\\Python39\\lib\\site-packages\\sklearn\\svm\\_base.py:1244: ConvergenceWarning: Liblinear failed to converge, increase the number of iterations.\n",
      "  warnings.warn(\n",
      "c:\\Users\\vicri\\AppData\\Local\\Programs\\Python\\Python39\\lib\\site-packages\\sklearn\\svm\\_base.py:1244: ConvergenceWarning: Liblinear failed to converge, increase the number of iterations.\n",
      "  warnings.warn(\n",
      "c:\\Users\\vicri\\AppData\\Local\\Programs\\Python\\Python39\\lib\\site-packages\\sklearn\\svm\\_base.py:1244: ConvergenceWarning: Liblinear failed to converge, increase the number of iterations.\n",
      "  warnings.warn(\n"
     ]
    },
    {
     "name": "stdout",
     "output_type": "stream",
     "text": [
      "C Value : 10 \n",
      "  ===> Validation classification score PCA : 0.7722139362844529\n",
      "  ===> Test classification score PCA : 0.810077519379845\n",
      "  ===> Validation classification score LDA : 0.6781857773535378\n",
      "  ===> Test classification score LDA : 0.695736434108527\n"
     ]
    },
    {
     "name": "stderr",
     "output_type": "stream",
     "text": [
      "c:\\Users\\vicri\\AppData\\Local\\Programs\\Python\\Python39\\lib\\site-packages\\sklearn\\svm\\_base.py:1244: ConvergenceWarning: Liblinear failed to converge, increase the number of iterations.\n",
      "  warnings.warn(\n",
      "c:\\Users\\vicri\\AppData\\Local\\Programs\\Python\\Python39\\lib\\site-packages\\sklearn\\svm\\_base.py:1244: ConvergenceWarning: Liblinear failed to converge, increase the number of iterations.\n",
      "  warnings.warn(\n",
      "c:\\Users\\vicri\\AppData\\Local\\Programs\\Python\\Python39\\lib\\site-packages\\sklearn\\svm\\_base.py:1244: ConvergenceWarning: Liblinear failed to converge, increase the number of iterations.\n",
      "  warnings.warn(\n",
      "c:\\Users\\vicri\\AppData\\Local\\Programs\\Python\\Python39\\lib\\site-packages\\sklearn\\svm\\_base.py:1244: ConvergenceWarning: Liblinear failed to converge, increase the number of iterations.\n",
      "  warnings.warn(\n",
      "c:\\Users\\vicri\\AppData\\Local\\Programs\\Python\\Python39\\lib\\site-packages\\sklearn\\svm\\_base.py:1244: ConvergenceWarning: Liblinear failed to converge, increase the number of iterations.\n",
      "  warnings.warn(\n",
      "c:\\Users\\vicri\\AppData\\Local\\Programs\\Python\\Python39\\lib\\site-packages\\sklearn\\svm\\_base.py:1244: ConvergenceWarning: Liblinear failed to converge, increase the number of iterations.\n",
      "  warnings.warn(\n",
      "c:\\Users\\vicri\\AppData\\Local\\Programs\\Python\\Python39\\lib\\site-packages\\sklearn\\svm\\_base.py:1244: ConvergenceWarning: Liblinear failed to converge, increase the number of iterations.\n",
      "  warnings.warn(\n",
      "c:\\Users\\vicri\\AppData\\Local\\Programs\\Python\\Python39\\lib\\site-packages\\sklearn\\svm\\_base.py:1244: ConvergenceWarning: Liblinear failed to converge, increase the number of iterations.\n",
      "  warnings.warn(\n"
     ]
    },
    {
     "name": "stdout",
     "output_type": "stream",
     "text": [
      "C Value : 100 \n",
      "  ===> Validation classification score PCA : 0.767888676768882\n",
      "  ===> Test classification score PCA : 0.7945736434108527\n",
      "  ===> Validation classification score LDA : 0.6678469156425247\n",
      "  ===> Test classification score LDA : 0.6937984496124031\n"
     ]
    },
    {
     "name": "stderr",
     "output_type": "stream",
     "text": [
      "c:\\Users\\vicri\\AppData\\Local\\Programs\\Python\\Python39\\lib\\site-packages\\sklearn\\svm\\_base.py:1244: ConvergenceWarning: Liblinear failed to converge, increase the number of iterations.\n",
      "  warnings.warn(\n",
      "c:\\Users\\vicri\\AppData\\Local\\Programs\\Python\\Python39\\lib\\site-packages\\sklearn\\svm\\_base.py:1244: ConvergenceWarning: Liblinear failed to converge, increase the number of iterations.\n",
      "  warnings.warn(\n",
      "c:\\Users\\vicri\\AppData\\Local\\Programs\\Python\\Python39\\lib\\site-packages\\sklearn\\svm\\_base.py:1244: ConvergenceWarning: Liblinear failed to converge, increase the number of iterations.\n",
      "  warnings.warn(\n",
      "c:\\Users\\vicri\\AppData\\Local\\Programs\\Python\\Python39\\lib\\site-packages\\sklearn\\svm\\_base.py:1244: ConvergenceWarning: Liblinear failed to converge, increase the number of iterations.\n",
      "  warnings.warn(\n",
      "c:\\Users\\vicri\\AppData\\Local\\Programs\\Python\\Python39\\lib\\site-packages\\sklearn\\svm\\_base.py:1244: ConvergenceWarning: Liblinear failed to converge, increase the number of iterations.\n",
      "  warnings.warn(\n",
      "c:\\Users\\vicri\\AppData\\Local\\Programs\\Python\\Python39\\lib\\site-packages\\sklearn\\svm\\_base.py:1244: ConvergenceWarning: Liblinear failed to converge, increase the number of iterations.\n",
      "  warnings.warn(\n"
     ]
    },
    {
     "name": "stdout",
     "output_type": "stream",
     "text": [
      "C Value : 1000 \n",
      "  ===> Validation classification score PCA : 0.7592620212385157\n",
      "  ===> Test classification score PCA : 0.7926356589147288\n",
      "  ===> Validation classification score LDA : 0.6635216561269538\n",
      "  ===> Test classification score LDA : 0.6976744186046512\n"
     ]
    },
    {
     "name": "stderr",
     "output_type": "stream",
     "text": [
      "c:\\Users\\vicri\\AppData\\Local\\Programs\\Python\\Python39\\lib\\site-packages\\sklearn\\svm\\_base.py:1244: ConvergenceWarning: Liblinear failed to converge, increase the number of iterations.\n",
      "  warnings.warn(\n",
      "c:\\Users\\vicri\\AppData\\Local\\Programs\\Python\\Python39\\lib\\site-packages\\sklearn\\svm\\_base.py:1244: ConvergenceWarning: Liblinear failed to converge, increase the number of iterations.\n",
      "  warnings.warn(\n"
     ]
    }
   ],
   "source": [
    "from sklearn.svm import LinearSVC\n",
    "from sklearn.model_selection import KFold\n",
    "\n",
    "# K-fold crossvalidation avec K = 4\n",
    "kf = KFold(n_splits=4)\n",
    "kf.get_n_splits(X_trainval)\n",
    "\n",
    "# Choix du meilleur coefficient de soft margin\n",
    "c = [0.001, 0.01, 0.1, 1, 5, 10, 100, 1000]\n",
    "kern = \"linear\"\n",
    "\n",
    "# PCA ou LDA puis linear SVM\n",
    "for C in c : \n",
    "  scores_val_pca, scores_test_pca, scores_val_lda, scores_test_lda = [], [], [] ,[]\n",
    "  for train_idx, valid_idx in kf.split(X_trainval):\n",
    "\n",
    "    # Récupération du fold \n",
    "    X_train_fold, X_val_fold = X_trainval[train_idx], X_trainval[valid_idx]\n",
    "    y_train_fold, y_val_fold = y_trainval[train_idx], y_trainval[valid_idx]\n",
    "\n",
    "    # Utilisation de l'algorithme PCA\n",
    "    n_components_PCA = 150\n",
    "    pca = PCA(n_components=n_components_PCA).fit(X_train_fold) # PCA training\n",
    "\n",
    "    # Utilisation de l'algorithme LDA\n",
    "    n_components_LDA = 5\n",
    "    lda = LDA(n_components=n_components_LDA).fit(X_train_fold, y_train_fold) # LDA training\n",
    "\n",
    "    X_train_pca = pca.transform(X_train_fold)  # PCA transformation \n",
    "    X_val_pca = pca.transform(X_val_fold)      # PCA transformation \n",
    "    X_test_pca = pca.transform(X_test)    # PCA transformation \n",
    "\n",
    "    X_train_lda = lda.transform(X_train_fold)  # LDA transformation \n",
    "    X_val_lda = lda.transform(X_val_fold)      # LDA transformation \n",
    "    X_test_lda = lda.transform(X_test)    # LDA transformation \n",
    "\n",
    "    # Linear SVM \n",
    "    cls_pca = LinearSVC(C=C).fit(X_train_pca, y_train_fold) # Linear SVM training\n",
    "    cls_lda = LinearSVC(C=C).fit(X_train_lda, y_train_fold) # Linear SVM training\n",
    "    \n",
    "    scores_val_pca.append(cls_pca.score(X_val_pca, y_val_fold))   # Stockage des scores de classification\n",
    "    scores_test_pca.append(cls_pca.score(X_test_pca, y_test))   # Stockage des scores de classification\n",
    "    scores_val_lda.append(cls_lda.score(X_val_lda, y_val_fold))   # Stockage des scores de classification\n",
    "    scores_test_lda.append(cls_lda.score(X_test_lda, y_test))   # Stockage des scores de classification\n",
    "\n",
    "  # On récupère le score moyen du SVM pour une valeur de C donnée lorsque testé pour les 4 folds\n",
    "  val_mean_score_over_folds_pca = sum(scores_val_pca)/len(scores_val_pca)\n",
    "  test_mean_score_over_folds_pca = sum(scores_test_pca)/len(scores_test_pca)\n",
    "  val_mean_score_over_folds_lda = sum(scores_val_lda)/len(scores_val_lda)\n",
    "  test_mean_score_over_folds_lda = sum(scores_test_lda)/len(scores_test_lda)\n",
    "  print(f\"C Value : {C} \")\n",
    "  print(f\"  ===> Validation classification score PCA : {val_mean_score_over_folds_pca}\")\n",
    "  print(f\"  ===> Test classification score PCA : {test_mean_score_over_folds_pca}\")\n",
    "  print(f\"  ===> Validation classification score LDA : {val_mean_score_over_folds_lda}\")\n",
    "  print(f\"  ===> Test classification score LDA : {test_mean_score_over_folds_lda}\")"
   ]
  },
  {
   "cell_type": "markdown",
   "metadata": {},
   "source": [
    "Best pour c= 0.1 avec PCA ou LDA pour linear SVM"
   ]
  },
  {
   "cell_type": "code",
   "execution_count": 8,
   "metadata": {},
   "outputs": [
    {
     "name": "stdout",
     "output_type": "stream",
     "text": [
      "Best poly classification score is 0.7228682170542635, for PCA obtained for C = 10 \n",
      "Best poly classification score is 0.7073643410852712, for LDA obtained for C = 1 \n",
      "Best rbf classification score is 0.8372093023255813, for PCA obtained for C = 5 \n",
      "Best rbf classification score is 0.7286821705426356, for LDA obtained for C = 0.1 \n"
     ]
    }
   ],
   "source": [
    "from sklearn.svm import SVC\n",
    "\n",
    "C = [0.001, 0.01, 0.1, 1, 5, 10, 100, 1000]\n",
    "\n",
    "\n",
    "best_test_score_pca = {\"poly\": 0, \"rbf\": 0} # Best test classification score for poly and rbf \n",
    "best_c_value_pca = {\"poly\": 0, \"rbf\": 0}\n",
    "best_test_score_lda = {\"poly\": 0, \"rbf\": 0} # Best test classification score for poly and rbf \n",
    "best_c_value_lda = {\"poly\": 0, \"rbf\": 0}\n",
    "\n",
    "# PCA ou LDA puis SVM polynomial ou SVM RBF\n",
    "for kern in ['poly', 'rbf']:\n",
    "  for c in C : \n",
    "    scores_val_pca, scores_test_pca, scores_val_lda, scores_test_lda = [], [], [] ,[]\n",
    "    for train_idx, valid_idx in kf.split(X_trainval):\n",
    "      # Récupération du fold \n",
    "      X_train_fold, X_val_fold = X_trainval[train_idx], X_trainval[valid_idx]\n",
    "      y_train_fold, y_val_fold = y_trainval[train_idx], y_trainval[valid_idx]\n",
    "\n",
    "      # Utilisation de l'algorithme PCA\n",
    "      n_components = 50\n",
    "      pca = PCA(n_components=n_components).fit(X_train_fold) # PCA training\n",
    "\n",
    "      # Utilisation de l'algorithme LDA\n",
    "      n_components_LDA = 5\n",
    "      lda = LDA(n_components=n_components_LDA).fit(X_train_fold, y_train_fold) # LDA training\n",
    "\n",
    "      X_train_pca = pca.transform(X_train_fold)  # PCA transformation \n",
    "      X_val_pca = pca.transform(X_val_fold)      # PCA transformation \n",
    "      X_test_pca = pca.transform(X_test)         # PCA transformation \n",
    "\n",
    "      X_train_lda = lda.transform(X_train_fold)  # LDA transformation \n",
    "      X_val_lda = lda.transform(X_val_fold)      # LDA transformation \n",
    "      X_test_lda = lda.transform(X_test)    # LDA transformation \n",
    "\n",
    "      # Kernel SVM \n",
    "      clf_pca = SVC(kernel=kern, C=c).fit(X_train_pca, y_train_fold) # SVM training\n",
    "      clf_lda = SVC(kernel=kern, C=c).fit(X_train_lda, y_train_fold) # SVM training\n",
    "\n",
    "      scores_val_pca.append(clf_pca.score(X_val_pca, y_val_fold))   # Stockage des scores de classification\n",
    "      scores_test_pca.append(clf_pca.score(X_test_pca, y_test))   # Stockage des scores de classification\n",
    "      scores_val_lda.append(clf_lda.score(X_val_lda, y_val_fold))   # Stockage des scores de classification\n",
    "      scores_test_lda.append(clf_lda.score(X_test_lda, y_test))   # Stockage des scores de classification\n",
    "\n",
    "    # On récupère le score moyen du SVM pour une valeur de C donnée lorsque testé pour les 4 folds\n",
    "    val_mean_score_over_folds_pca = sum(scores_val_pca)/len(scores_val_pca)\n",
    "    test_mean_score_over_folds_pca = sum(scores_test_pca)/len(scores_test_pca)\n",
    "    val_mean_score_over_folds_lda = sum(scores_val_lda)/len(scores_val_lda)\n",
    "    test_mean_score_over_folds_lda = sum(scores_test_lda)/len(scores_test_lda)\n",
    "    if test_mean_score_over_folds_pca > best_test_score_pca[kern] : \n",
    "      best_test_score_pca[kern] = test_mean_score_over_folds_pca\n",
    "      best_c_value_pca[kern] = c\n",
    "    if test_mean_score_over_folds_lda > best_test_score_lda[kern] : \n",
    "      best_test_score_lda[kern] = test_mean_score_over_folds_lda\n",
    "      best_c_value_lda[kern] = c\n",
    "for kern in ['poly', 'rbf']:\n",
    "  print(f\"Best {kern} classification score is {best_test_score_pca[kern]}, for PCA obtained for C = {best_c_value_pca[kern]} \")\n",
    "  print(f\"Best {kern} classification score is {best_test_score_lda[kern]}, for LDA obtained for C = {best_c_value_lda[kern]} \")"
   ]
  },
  {
   "cell_type": "markdown",
   "metadata": {},
   "source": [
    "### Convolutional Neural Network"
   ]
  },
  {
   "cell_type": "code",
   "execution_count": 9,
   "metadata": {},
   "outputs": [
    {
     "name": "stdout",
     "output_type": "stream",
     "text": [
      "Files already downloaded and verified\n",
      "Files already downloaded and verified\n"
     ]
    }
   ],
   "source": [
    "import torch\n",
    "import torchvision\n",
    "import torch.nn as nn #(le package neural network)\n",
    "import torch.nn.functional as F #le package neural network fonctionnel\n",
    "import torch.optim as optim\n",
    "from torchvision import datasets, transforms\n",
    "\n",
    "### Importation de la base de données ###\n",
    "\n",
    "nb_classes = 5749\n",
    "\n",
    "# Nombre de batch d'entraînement et de tests = Nombres d'images passées au CNN avant chaque actualisation des poids du modèle.\n",
    "batch_size_train = 100\n",
    "batch_size_test = 100\n",
    "\n",
    "# Load de la partie train de la base de données LFWPeople\n",
    "train_lfw_dset =  torchvision.datasets.LFWPeople('./files/',  split='train', download=True,\n",
    "                             transform=torchvision.transforms.Compose([\n",
    "                               torchvision.transforms.ToTensor(),\n",
    "                               torchvision.transforms.Normalize(\n",
    "                                 (0.1307,), (0.3081,))\n",
    "                             ]))\n",
    "\n",
    "# Dataloader d'entraînement - Permettra de donner les données au modèle par batch (Lot) de 2 images\n",
    "train_loader = torch.utils.data.DataLoader(train_lfw_dset,\n",
    "  batch_size=batch_size_train, shuffle=True)\n",
    "\n",
    "# Load de la partie test de la base de données LFWPeople\n",
    "test_lfw_dset =   torchvision.datasets.LFWPeople('./files/', split='test', download=True,\n",
    "                             transform=torchvision.transforms.Compose([\n",
    "                               torchvision.transforms.ToTensor(),\n",
    "                               torchvision.transforms.Normalize(\n",
    "                                 (0.1307,), (0.3081,))\n",
    "                             ]))\n",
    "\n",
    "# Dataloader de test - Permettra de donner les données au modèle par batch (Lot) de 2 images\n",
    "test_loader = torch.utils.data.DataLoader(test_lfw_dset,\n",
    "  batch_size=batch_size_test, shuffle=True)\n",
    "\n",
    "gpu = torch.device(\"cuda\") # Définition du GPU "
   ]
  },
  {
   "cell_type": "markdown",
   "metadata": {},
   "source": [
    "#### Training du modele"
   ]
  },
  {
   "cell_type": "code",
   "execution_count": 10,
   "metadata": {},
   "outputs": [],
   "source": [
    "# Définition d'un CNN 2 couches de convolution\n",
    "\n",
    "class MonCNN(torch.nn.Module):\n",
    "  def __init__(self, nombre_de_classes):\n",
    "    super(MonCNN, self).__init__()\n",
    "    self.conv1 = nn.Conv2d(3, 32, 3)          # Couche de convolution - Paramètres : (Nombre de canaux de l'input (1), nombre de canaux de l'output (32), Kernel size (3*3))\n",
    "    self.relu1 = nn.ReLU()                    # Fonction d'activation \n",
    "    self.max_pool1 = nn.MaxPool2d(2, 2)       # Couche maxpooling - Paramètres : (taille du filtre = : 2*2, stride (2*2) )\n",
    "    self.conv2 = nn.Conv2d(32, 64, 3)         # Augmenter la taille du kernel size pour capturer des motifs plus grands\n",
    "    self.relu2 = nn.ReLU()                    # Ajouter une deuxième fonction d'activation\n",
    "    self.max_pool2 = nn.MaxPool2d(2, 2)       # Ajouter une deuxième couche maxpooling\n",
    "    self.fc1 = nn.Linear(64 * 61 * 61, 256)     # Adapter la taille de la couche entièrement connectée en fonction de la taille du feature map après la deuxième couche de convolution\n",
    "    self.relu3 = nn.ReLU()                    # Ajouter une fonction d'activation après la couche FC\n",
    "    self.fc2 = nn.Linear(256, nombre_de_classes)  # Couche FC - Paramètres : (Nombre de canaux du vecteur input (256), Taille du vecteur output (Nombres de classes) )\n",
    "  def forward(self, x): # Dans la partie forward, on passe l'image / le lot (=batch) d'images dans chaque couche précédemment définies\n",
    "    out = self.conv1(x)\n",
    "    out = self.relu1(out)\n",
    "    out = self.max_pool1(out)\n",
    "    out = self.conv2(out)\n",
    "    out = self.relu2(out)\n",
    "    out = self.max_pool2(out)\n",
    "    out = out.view(out.size(0), -1)  # Flatten (=> Transformer le feature map en vecteur ligne pour donner ensuite à la couche FC)\n",
    "    out = self.fc1(out)\n",
    "    out = self.relu3(out)            # Ajouter une fonction d'activation après la couche FC\n",
    "    out = self.fc2(out)\n",
    "    return out\n",
    "\n",
    "mon_model = MonCNN(nb_classes) # On précise que le nombre de classes\n",
    "mon_model.cuda()\n",
    "mon_optimizer = torch.optim.SGD(mon_model.parameters(), lr=0.1) # Stochastic Gradient Descent (SGD) \n",
    "\n",
    "nb_train_data = len(train_lfw_dset.targets)\n",
    "# On entraîne le modèle en itérant sur les batch de données \n",
    "for i, one_batch in enumerate(train_loader):\n",
    "  if (i+1) % 100 == 0: # Simple affichage de temps à autre pour savoir où en est rendue la boucle\n",
    "    print(f\"Batch n° {i+1} / {int(nb_train_data/batch_size_train)}\")\n",
    "  mon_optimizer.zero_grad()       # Réinitialisation du gradient\n",
    "  data, ground_truth = one_batch  # Récupération des 10 images et des 10 labels contenues dans le batch \n",
    "\n",
    "  # Transfert des données sur GPU \n",
    "  data = data.cuda()\n",
    "  ground_truth = ground_truth.cuda()\n",
    "\n",
    "  output_de_model = mon_model(data)  # Extraction du vecteur caractéristique par le modèle\n",
    "  loss = F.cross_entropy(output_de_model, ground_truth) # Calcul de la fonction de pertes\n",
    "  loss.backward()   # Backpropagation \n",
    "  mon_optimizer.step()  # Actualisation des poids du modèle"
   ]
  },
  {
   "cell_type": "markdown",
   "metadata": {},
   "source": [
    "#### Test et précision "
   ]
  },
  {
   "cell_type": "code",
   "execution_count": 11,
   "metadata": {},
   "outputs": [
    {
     "data": {
      "text/plain": [
       "0.0"
      ]
     },
     "execution_count": 11,
     "metadata": {},
     "output_type": "execute_result"
    }
   ],
   "source": [
    "nb_test_data = len(test_lfw_dset.targets)\n",
    "correct = 0\n",
    "\n",
    "# Phase de test\n",
    "with torch.no_grad(): # On ne veut pas calculer de gradient puisque le réseau est entraîné \n",
    "    # On test le modèle en itérant sur les batch de données de test\n",
    "    for idx, (data, ground_truth) in enumerate(test_loader): \n",
    "      if (idx +1) % 50 == 0 : \n",
    "        print(f\"Batch n° {idx+1} / {int(nb_test_data/batch_size_test)}\")\n",
    "\n",
    "      # Transfert des données sur GPU \n",
    "      data = data.cuda()\n",
    "      ground_truth = ground_truth.cuda()\n",
    "\n",
    "      output = mon_model(data) # Extraction des features \n",
    "      pred = output.data.max(1, keepdim=True)[1] # Récupération de la prediction du modèle\n",
    "      correct += pred.eq(ground_truth.data.view_as(pred)).sum().item() # Vérification de la prédiction du modèle\n",
    "\n",
    "# Précision du modèle\n",
    "100*correct / len(test_loader.dataset) #taux de bonne classification "
   ]
  },
  {
   "cell_type": "markdown",
   "metadata": {},
   "source": [
    "#### Resnet18"
   ]
  },
  {
   "cell_type": "code",
   "execution_count": 12,
   "metadata": {},
   "outputs": [
    {
     "name": "stdout",
     "output_type": "stream",
     "text": [
      "tensor(8.6474, device='cuda:0', grad_fn=<NllLossBackward0>)\n",
      "tensor(8.7845, device='cuda:0', grad_fn=<NllLossBackward0>)\n",
      "tensor(8.8702, device='cuda:0', grad_fn=<NllLossBackward0>)\n",
      "tensor(8.9340, device='cuda:0', grad_fn=<NllLossBackward0>)\n",
      "tensor(8.8039, device='cuda:0', grad_fn=<NllLossBackward0>)\n",
      "tensor(8.8074, device='cuda:0', grad_fn=<NllLossBackward0>)\n",
      "tensor(8.7472, device='cuda:0', grad_fn=<NllLossBackward0>)\n",
      "tensor(8.8040, device='cuda:0', grad_fn=<NllLossBackward0>)\n",
      "tensor(8.7646, device='cuda:0', grad_fn=<NllLossBackward0>)\n",
      "tensor(8.7881, device='cuda:0', grad_fn=<NllLossBackward0>)\n",
      "tensor(8.7766, device='cuda:0', grad_fn=<NllLossBackward0>)\n",
      "tensor(8.6638, device='cuda:0', grad_fn=<NllLossBackward0>)\n",
      "tensor(8.6260, device='cuda:0', grad_fn=<NllLossBackward0>)\n",
      "tensor(8.5960, device='cuda:0', grad_fn=<NllLossBackward0>)\n",
      "tensor(8.6290, device='cuda:0', grad_fn=<NllLossBackward0>)\n",
      "tensor(8.5477, device='cuda:0', grad_fn=<NllLossBackward0>)\n",
      "tensor(8.6440, device='cuda:0', grad_fn=<NllLossBackward0>)\n",
      "tensor(8.6193, device='cuda:0', grad_fn=<NllLossBackward0>)\n",
      "tensor(8.3984, device='cuda:0', grad_fn=<NllLossBackward0>)\n",
      "tensor(8.2654, device='cuda:0', grad_fn=<NllLossBackward0>)\n",
      "tensor(8.4075, device='cuda:0', grad_fn=<NllLossBackward0>)\n",
      "tensor(8.5008, device='cuda:0', grad_fn=<NllLossBackward0>)\n",
      "tensor(8.4521, device='cuda:0', grad_fn=<NllLossBackward0>)\n",
      "tensor(8.2996, device='cuda:0', grad_fn=<NllLossBackward0>)\n",
      "tensor(8.4557, device='cuda:0', grad_fn=<NllLossBackward0>)\n",
      "tensor(8.1506, device='cuda:0', grad_fn=<NllLossBackward0>)\n",
      "tensor(8.4957, device='cuda:0', grad_fn=<NllLossBackward0>)\n",
      "tensor(8.3002, device='cuda:0', grad_fn=<NllLossBackward0>)\n",
      "tensor(8.3960, device='cuda:0', grad_fn=<NllLossBackward0>)\n",
      "tensor(8.2646, device='cuda:0', grad_fn=<NllLossBackward0>)\n",
      "tensor(7.9620, device='cuda:0', grad_fn=<NllLossBackward0>)\n",
      "tensor(8.3641, device='cuda:0', grad_fn=<NllLossBackward0>)\n",
      "tensor(8.5880, device='cuda:0', grad_fn=<NllLossBackward0>)\n",
      "tensor(8.5658, device='cuda:0', grad_fn=<NllLossBackward0>)\n",
      "tensor(8.1341, device='cuda:0', grad_fn=<NllLossBackward0>)\n",
      "tensor(8.4056, device='cuda:0', grad_fn=<NllLossBackward0>)\n",
      "tensor(8.5045, device='cuda:0', grad_fn=<NllLossBackward0>)\n",
      "tensor(8.5492, device='cuda:0', grad_fn=<NllLossBackward0>)\n",
      "tensor(8.4946, device='cuda:0', grad_fn=<NllLossBackward0>)\n",
      "tensor(8.3424, device='cuda:0', grad_fn=<NllLossBackward0>)\n",
      "tensor(8.1371, device='cuda:0', grad_fn=<NllLossBackward0>)\n",
      "tensor(8.2393, device='cuda:0', grad_fn=<NllLossBackward0>)\n",
      "tensor(8.2927, device='cuda:0', grad_fn=<NllLossBackward0>)\n",
      "tensor(8.0585, device='cuda:0', grad_fn=<NllLossBackward0>)\n",
      "tensor(8.2687, device='cuda:0', grad_fn=<NllLossBackward0>)\n",
      "tensor(8.1251, device='cuda:0', grad_fn=<NllLossBackward0>)\n",
      "tensor(8.1594, device='cuda:0', grad_fn=<NllLossBackward0>)\n",
      "tensor(8.1752, device='cuda:0', grad_fn=<NllLossBackward0>)\n",
      "tensor(8.4022, device='cuda:0', grad_fn=<NllLossBackward0>)\n",
      "tensor(8.3227, device='cuda:0', grad_fn=<NllLossBackward0>)\n",
      "tensor(8.1229, device='cuda:0', grad_fn=<NllLossBackward0>)\n",
      "tensor(8.3801, device='cuda:0', grad_fn=<NllLossBackward0>)\n",
      "tensor(8.1344, device='cuda:0', grad_fn=<NllLossBackward0>)\n",
      "tensor(8.3749, device='cuda:0', grad_fn=<NllLossBackward0>)\n",
      "tensor(7.9627, device='cuda:0', grad_fn=<NllLossBackward0>)\n",
      "tensor(8.1872, device='cuda:0', grad_fn=<NllLossBackward0>)\n",
      "tensor(7.9335, device='cuda:0', grad_fn=<NllLossBackward0>)\n",
      "tensor(8.1752, device='cuda:0', grad_fn=<NllLossBackward0>)\n",
      "tensor(7.9568, device='cuda:0', grad_fn=<NllLossBackward0>)\n",
      "tensor(8.2247, device='cuda:0', grad_fn=<NllLossBackward0>)\n",
      "tensor(8.3493, device='cuda:0', grad_fn=<NllLossBackward0>)\n",
      "tensor(8.2479, device='cuda:0', grad_fn=<NllLossBackward0>)\n",
      "tensor(8.0627, device='cuda:0', grad_fn=<NllLossBackward0>)\n",
      "tensor(8.0148, device='cuda:0', grad_fn=<NllLossBackward0>)\n",
      "tensor(7.9429, device='cuda:0', grad_fn=<NllLossBackward0>)\n",
      "tensor(8.0078, device='cuda:0', grad_fn=<NllLossBackward0>)\n",
      "tensor(7.8832, device='cuda:0', grad_fn=<NllLossBackward0>)\n",
      "tensor(7.8289, device='cuda:0', grad_fn=<NllLossBackward0>)\n",
      "tensor(7.9101, device='cuda:0', grad_fn=<NllLossBackward0>)\n",
      "tensor(7.9901, device='cuda:0', grad_fn=<NllLossBackward0>)\n",
      "tensor(8.0311, device='cuda:0', grad_fn=<NllLossBackward0>)\n",
      "tensor(7.7760, device='cuda:0', grad_fn=<NllLossBackward0>)\n",
      "tensor(8.0255, device='cuda:0', grad_fn=<NllLossBackward0>)\n",
      "tensor(7.8164, device='cuda:0', grad_fn=<NllLossBackward0>)\n",
      "tensor(7.7348, device='cuda:0', grad_fn=<NllLossBackward0>)\n",
      "tensor(8.0080, device='cuda:0', grad_fn=<NllLossBackward0>)\n",
      "tensor(7.9241, device='cuda:0', grad_fn=<NllLossBackward0>)\n",
      "tensor(8.0201, device='cuda:0', grad_fn=<NllLossBackward0>)\n",
      "tensor(8.0982, device='cuda:0', grad_fn=<NllLossBackward0>)\n",
      "tensor(7.8923, device='cuda:0', grad_fn=<NllLossBackward0>)\n",
      "tensor(7.8754, device='cuda:0', grad_fn=<NllLossBackward0>)\n",
      "tensor(8.0065, device='cuda:0', grad_fn=<NllLossBackward0>)\n",
      "tensor(8.1714, device='cuda:0', grad_fn=<NllLossBackward0>)\n",
      "tensor(8.2483, device='cuda:0', grad_fn=<NllLossBackward0>)\n",
      "tensor(7.9366, device='cuda:0', grad_fn=<NllLossBackward0>)\n",
      "tensor(7.7696, device='cuda:0', grad_fn=<NllLossBackward0>)\n",
      "tensor(7.9342, device='cuda:0', grad_fn=<NllLossBackward0>)\n",
      "tensor(8.1311, device='cuda:0', grad_fn=<NllLossBackward0>)\n",
      "tensor(7.9986, device='cuda:0', grad_fn=<NllLossBackward0>)\n",
      "tensor(7.9600, device='cuda:0', grad_fn=<NllLossBackward0>)\n",
      "tensor(7.8284, device='cuda:0', grad_fn=<NllLossBackward0>)\n",
      "tensor(7.6827, device='cuda:0', grad_fn=<NllLossBackward0>)\n",
      "tensor(8.1335, device='cuda:0', grad_fn=<NllLossBackward0>)\n",
      "tensor(7.8562, device='cuda:0', grad_fn=<NllLossBackward0>)\n",
      "tensor(8.0333, device='cuda:0', grad_fn=<NllLossBackward0>)\n",
      "tensor(8.0397, device='cuda:0', grad_fn=<NllLossBackward0>)\n"
     ]
    }
   ],
   "source": [
    "import torchvision.models as models\n",
    "gpu = torch.device(\"cuda\") # Définition du GPU\n",
    "nb_train_data = len(train_lfw_dset.targets)\n",
    "\n",
    "resnet18 = models.resnet18(pretrained=True)\n",
    "resnet18.fc = nn.Linear(resnet18.fc.in_features, nb_classes) \n",
    "resnet18.cuda() # Place le modèle sur le GPU (Calculs plus rapides)\n",
    "\n",
    "mon_optimizer = torch.optim.SGD(resnet18.parameters(), lr=0.01) # stochastic gradient descent (SGD) \n",
    "for i, (data, ground_truth) in enumerate(train_loader):\n",
    "  if (i+1) % 500 == 0:\n",
    "    print(f\"Batch n° {i+1} / {int(nb_train_data/batch_size_train)}\")\n",
    "    print(loss)\n",
    "  mon_optimizer.zero_grad()\n",
    "  data, ground_truth = data.cuda(), ground_truth.cuda()\n",
    "  data = data.expand(-1, 3, -1, -1) # Grey image was defined on 1 channel. Now defined on 3 channels as an RGB image would be. \n",
    "  output_de_model = resnet18(data)\n",
    "  print(loss)\n",
    "  loss = F.cross_entropy(output_de_model, ground_truth.cuda())\n",
    "  loss.backward()\n",
    "  mon_optimizer.step()"
   ]
  },
  {
   "cell_type": "code",
   "execution_count": 13,
   "metadata": {},
   "outputs": [
    {
     "name": "stdout",
     "output_type": "stream",
     "text": [
      "Dataset LFWPeople\n",
      "    Number of datapoints: 9525\n",
      "    Root location: ./files/lfw-py\n",
      "    Alignment: funneled\n",
      "    Split: train\n",
      "    Classes (identities): 5749\n",
      "    StandardTransform\n",
      "Transform: Compose(\n",
      "               ToTensor()\n",
      "               Normalize(mean=(0.1307,), std=(0.3081,))\n",
      "           )\n",
      "3708\n"
     ]
    }
   ],
   "source": [
    "print((train_lfw_dset))\n",
    "print(len(test_lfw_dset.targets))\n"
   ]
  },
  {
   "cell_type": "code",
   "execution_count": 14,
   "metadata": {},
   "outputs": [
    {
     "name": "stdout",
     "output_type": "stream",
     "text": [
      "0.0\n"
     ]
    }
   ],
   "source": [
    "correct = 0\n",
    "\n",
    "with torch.no_grad():\n",
    "    for data, ground_truth in test_loader:\n",
    "      data = data.expand(-1, 3, -1, -1) # Grey image was defined on 1 channel. Now defined on 3 channels as an RGB image would be. \n",
    "      output = resnet18(data.cuda())\n",
    "      pred = output.data.max(1, keepdim=True)[1]\n",
    "      correct += pred.eq(ground_truth.cuda().data.view_as(pred)).sum().item()\n",
    "\n",
    "print(100*correct / len(test_loader.dataset))"
   ]
  }
 ],
 "metadata": {
  "kernelspec": {
   "display_name": "Python 3",
   "language": "python",
   "name": "python3"
  },
  "language_info": {
   "codemirror_mode": {
    "name": "ipython",
    "version": 3
   },
   "file_extension": ".py",
   "mimetype": "text/x-python",
   "name": "python",
   "nbconvert_exporter": "python",
   "pygments_lexer": "ipython3",
   "version": "3.9.13"
  },
  "orig_nbformat": 4
 },
 "nbformat": 4,
 "nbformat_minor": 2
}
